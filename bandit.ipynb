{
 "cells": [
  {
   "cell_type": "code",
   "execution_count": 14,
   "id": "billion-table",
   "metadata": {},
   "outputs": [],
   "source": [
    "import numpy as np\n",
    "import pandas as pd\n",
    "from scipy.special import softmax\n",
    "\n",
    "n_match_picks = 1000\n",
    "n_context_features = 8\n",
    "n_arms = 7\n",
    "\n",
    "X_context = np.random.randint(10, size=(n_match_picks, n_context_features))\n",
    "X_action = np.random.randint(10, size=(n_match_picks, 1))\n",
    "Y_reward = np.random.randint(10, size=(n_match_picks, 1))"
   ]
  },
  {
   "cell_type": "code",
   "execution_count": 15,
   "id": "impressed-fossil",
   "metadata": {},
   "outputs": [
    {
     "data": {
      "text/plain": [
       "((1000, 8), (1000, 1), (1000, 1))"
      ]
     },
     "execution_count": 15,
     "metadata": {},
     "output_type": "execute_result"
    }
   ],
   "source": [
    "X_context.shape, X_action.shape, Y_reward.shape"
   ]
  },
  {
   "cell_type": "code",
   "execution_count": 210,
   "id": "cathedral-investment",
   "metadata": {},
   "outputs": [],
   "source": [
    "class Bandit(object):\n",
    "    def __init__(self, n_context_features, n_arms, step_size=0.05, baseline=False):\n",
    "        self.n_context_features = n_context_features\n",
    "        self.n_arms = n_arms\n",
    "        self.step_size = step_size\n",
    "        self.baseline = baseline\n",
    "        self.reward_sum = 0\n",
    "        self.iters = 0\n",
    "\n",
    "        # start at uniform\n",
    "        self.theta = np.zeros((self.n_context_features, self.n_arms))\n",
    "        \n",
    "    @property\n",
    "    def current_baseline(self):\n",
    "        return self.reward_sum / self.iters if self.baseline and self.iters else 0\n",
    "        \n",
    "    def predict_proba(self, X):\n",
    "        return softmax((X @ self.theta).reshape(-1, self.n_arms), axis=1)\n",
    "    \n",
    "    def predict(self, X, deterministic=True):\n",
    "        predictions = self.predict_proba(X)\n",
    "        if deterministic:\n",
    "            return predictions.argmax()\n",
    "        cumsum = predictions.cumsum(axis=1)\n",
    "        random_val = np.random.random_sample(len(cumsum))\n",
    "        binarized = (cumsum.T < random_val).astype(int).sum(axis=0)\n",
    "        return binarized\n",
    "    \n",
    "    def theta_gradient(self, X, actual_action):\n",
    "        return np.eye(self.n_arms)[actual_action].squeeze() - self.predict_proba(X)\n",
    "    \n",
    "    def update_theta(self, X, action, reward):\n",
    "        self.reward_sum += reward.sum()\n",
    "        self.iters += len(reward)\n",
    "        self.theta = self.theta + self.step_size * (reward.T - self.current_baseline) @ self.theta_gradient(X, action)"
   ]
  },
  {
   "cell_type": "code",
   "execution_count": 211,
   "id": "honest-virgin",
   "metadata": {},
   "outputs": [
    {
     "name": "stdout",
     "output_type": "stream",
     "text": [
      "[[0. 0. 0. 0. 0. 0. 0.]\n",
      " [0. 0. 0. 0. 0. 0. 0.]\n",
      " [0. 0. 0. 0. 0. 0. 0.]\n",
      " [0. 0. 0. 0. 0. 0. 0.]\n",
      " [0. 0. 0. 0. 0. 0. 0.]\n",
      " [0. 0. 0. 0. 0. 0. 0.]\n",
      " [0. 0. 0. 0. 0. 0. 0.]\n",
      " [0. 0. 0. 0. 0. 0. 0.]]\n",
      "[[-0.06428571  0.33571429 -0.06428571 -0.01428571 -0.06428571 -0.06428571\n",
      "  -0.06428571]\n",
      " [-0.06428571  0.33571429 -0.06428571 -0.01428571 -0.06428571 -0.06428571\n",
      "  -0.06428571]\n",
      " [-0.06428571  0.33571429 -0.06428571 -0.01428571 -0.06428571 -0.06428571\n",
      "  -0.06428571]\n",
      " [-0.06428571  0.33571429 -0.06428571 -0.01428571 -0.06428571 -0.06428571\n",
      "  -0.06428571]\n",
      " [-0.06428571  0.33571429 -0.06428571 -0.01428571 -0.06428571 -0.06428571\n",
      "  -0.06428571]\n",
      " [-0.06428571  0.33571429 -0.06428571 -0.01428571 -0.06428571 -0.06428571\n",
      "  -0.06428571]\n",
      " [-0.06428571  0.33571429 -0.06428571 -0.01428571 -0.06428571 -0.06428571\n",
      "  -0.06428571]\n",
      " [-0.06428571  0.33571429 -0.06428571 -0.01428571 -0.06428571 -0.06428571\n",
      "  -0.06428571]]\n",
      "[[ 0.     0.175  0.    -0.175  0.     0.     0.   ]\n",
      " [ 0.     0.175  0.    -0.175  0.     0.     0.   ]\n",
      " [ 0.     0.175  0.    -0.175  0.     0.     0.   ]\n",
      " [ 0.     0.175  0.    -0.175  0.     0.     0.   ]\n",
      " [ 0.     0.175  0.    -0.175  0.     0.     0.   ]\n",
      " [ 0.     0.175  0.    -0.175  0.     0.     0.   ]\n",
      " [ 0.     0.175  0.    -0.175  0.     0.     0.   ]\n",
      " [ 0.     0.175  0.    -0.175  0.     0.     0.   ]]\n"
     ]
    }
   ],
   "source": [
    "bandit = Bandit(n_context_features, n_arms)\n",
    "bandit.predict_proba(X_context[:2])\n",
    "bandit.predict(X_context[0], deterministic=False)\n",
    "bandit.predict(X_context[:2], deterministic=False)\n",
    "bandit.predict(X_context[0], deterministic=True)\n",
    "bandit.theta_gradient(X_context[0], X_action[0])\n",
    "bandit.theta_gradient(X_context[:2], X_action[:2])\n",
    "print(bandit.theta)\n",
    "bandit.update_theta(X_context[:2], X_action[:2], Y_reward[:2])\n",
    "print(bandit.theta)\n",
    "bandit = Bandit(n_context_features, n_arms, baseline=True)\n",
    "bandit.update_theta(X_context[:2], X_action[:2], Y_reward[:2])\n",
    "print(bandit.theta)"
   ]
  },
  {
   "cell_type": "code",
   "execution_count": null,
   "id": "molecular-sentence",
   "metadata": {},
   "outputs": [],
   "source": []
  }
 ],
 "metadata": {
  "kernelspec": {
   "display_name": "Python 3",
   "language": "python",
   "name": "python3"
  },
  "language_info": {
   "codemirror_mode": {
    "name": "ipython",
    "version": 3
   },
   "file_extension": ".py",
   "mimetype": "text/x-python",
   "name": "python",
   "nbconvert_exporter": "python",
   "pygments_lexer": "ipython3",
   "version": "3.9.2"
  }
 },
 "nbformat": 4,
 "nbformat_minor": 5
}
