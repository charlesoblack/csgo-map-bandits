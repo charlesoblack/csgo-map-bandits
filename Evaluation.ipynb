{
 "cells": [
  {
   "cell_type": "code",
   "execution_count": 1,
   "id": "sublime-malawi",
   "metadata": {},
   "outputs": [],
   "source": [
    "from bandit import Bandit\n",
    "#from logging_policy import LoggingPolicy"
   ]
  },
  {
   "cell_type": "markdown",
   "id": "secondary-issue",
   "metadata": {},
   "source": [
    "Need to take a Bandit object - which contains a policy to evaluate, and also a Logging Policy Object.\n",
    "We estimate the value using the Direct Method, where we fit a ridge regression w/ importance weights onto the reward function.\n",
    "\n"
   ]
  },
  {
   "cell_type": "markdown",
   "id": "guilty-confirmation",
   "metadata": {},
   "source": []
  },
  {
   "cell_type": "code",
   "execution_count": null,
   "id": "ranking-fireplace",
   "metadata": {},
   "outputs": [],
   "source": [
    "def train_value_estimator(context_train,actions_train,rewards_train,log_policy,target_bandit):\n",
    "    '''\n",
    "    Trains an importance weighted RidgeCV model which is used for direct method estimation.\n",
    "    \n",
    "    Input:\n",
    "        Context_train (np.array(n x k)): n is number of train examples. k is dimensionality of context.\n",
    "        actions_train (np.array(n)) : actions taken\n",
    "        rewards (np.array(n): rewards received\n",
    "        log_policy: a LoggingPolicy object, which needs to have a function get_pa_x(self,context)\n",
    "        target_policy: a Bandit object, which needs to have a function predict_proba(self,context)\n",
    "    '''\n",
    "    all_actions = np.unique(actions_train) # return from unique is already sorted\n",
    "    action_to_model_dict = {}\n",
    "    log_propensities = log_policy.get_pa_x(context_train)\n",
    "    target_propensities = target_bandit.predict_proba(context_train)\n",
    "    \n",
    "    # Check to make sure these are both n x k. I guess its possible that not all actions were chosen, but thats unlikely.\n",
    "    assert log_propensities.shape == target_propensities.shape\n",
    "    assert log_propensities.shape == (context_train.shape[0], len(all_actions))\n",
    "    \n",
    "    \n",
    "    #Fit a model for each action\n",
    "    for action in all_actions:\n",
    "        contexts_for_action = contexts_train[actions_train==action,:]\n",
    "        rewards_for_action = rewards_train[actions_train==action]\n",
    "        model = RidgeCV()\n",
    "        importance_weights = target_propensities[actions_train==action,:]/propensities[actions_train==action,:]\n",
    "        model.fit(contexts_for_action,rewards_for_action,sample_weight=importance_weights )\n",
    "        action_to_model_dict[action] = model\n",
    "    # Models are fit\n",
    "    return action_to_model_dict\n"
   ]
  },
  {
   "cell_type": "code",
   "execution_count": null,
   "id": "civilian-hawaii",
   "metadata": {},
   "outputs": [],
   "source": [
    "def evaluate(context_test,actions_test,rewards_test,target_bandit,action_to_model_dict)\n",
    "    num_actions = len(action_to_model_dict.keys())\n",
    "    predicted_rewards = np.empty((context_test.shape[0],num_actions))\n",
    "    for action in all_actions:\n",
    "        model = action_to_model_dict[action]\n",
    "        predicted_rewards[:,action] = model.predict(context_test)\n",
    "    \n",
    "    target_action_distribution = target_bandit.predict_proba(context_test)\n",
    "    val_est = (predicted_rewards*target_action_distribution).sum(axis=1).mean()\n",
    "    return val_est\n",
    "    "
   ]
  },
  {
   "cell_type": "markdown",
   "id": "molecular-cleaners",
   "metadata": {},
   "source": []
  },
  {
   "cell_type": "code",
   "execution_count": null,
   "id": "qualified-brooks",
   "metadata": {},
   "outputs": [],
   "source": []
  },
  {
   "cell_type": "code",
   "execution_count": null,
   "id": "disabled-casino",
   "metadata": {},
   "outputs": [],
   "source": []
  },
  {
   "cell_type": "code",
   "execution_count": null,
   "id": "worldwide-opportunity",
   "metadata": {},
   "outputs": [],
   "source": []
  }
 ],
 "metadata": {
  "kernelspec": {
   "display_name": "Python 3",
   "language": "python",
   "name": "python3"
  },
  "language_info": {
   "codemirror_mode": {
    "name": "ipython",
    "version": 3
   },
   "file_extension": ".py",
   "mimetype": "text/x-python",
   "name": "python",
   "nbconvert_exporter": "python",
   "pygments_lexer": "ipython3",
   "version": "3.8.5"
  }
 },
 "nbformat": 4,
 "nbformat_minor": 5
}
