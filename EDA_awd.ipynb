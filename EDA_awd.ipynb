{
 "cells": [
  {
   "cell_type": "markdown",
   "id": "elder-grenada",
   "metadata": {},
   "source": [
    "# Schema's "
   ]
  },
  {
   "cell_type": "markdown",
   "id": "viral-influence",
   "metadata": {},
   "source": [
    "```\n",
    "COMPETITIONS: \n",
    "CREATE TABLE Competitions (\n",
    "    CompetitionId SERIAL,\n",
    "    HLTVCompetitionId INTEGER UNIQUE,\n",
    "    HLTVLink VARCHAR(300) UNIQUE,\n",
    "    CompetitionName VARCHAR(300),\n",
    "    Slug VARCHAR(300),\n",
    "    TeamsCompeting SMALLINT,\n",
    "    PrizePool INTEGER,\n",
    "    CompetitionLocation VARCHAR(100),\n",
    "    StartDate DATE,\n",
    "    EndDate DATE,\n",
    "    Created TIMESTAMP NOT NULL DEFAULT CURRENT_TIMESTAMP,\n",
    "    Updated TIMESTAMP NOT NULL DEFAULT CURRENT_TIMESTAMP ON UPDATE NOW(),\n",
    "    PRIMARY KEY (CompetitionId)\n",
    ");\n",
    "DEMOS: \n",
    "CREATE TABLE Demos (\n",
    "    MatchId BIGINT UNSIGNED NOT NULL,\n",
    "    MapName VARCHAR(20),\n",
    "    WinnerId BIGINT UNSIGNED NOT NULL,\n",
    "    WinnerScore SMALLINT,\n",
    "    WinnerFirstHalfScore SMALLINT,\n",
    "    WinnerSecondHalfScore SMALLINT,\n",
    "    WinnerFirstHalfSide VARCHAR(2),\n",
    "    WinnerOTScore SMALLINT DEFAULT 0,\n",
    "    LoserId BIGINT UNSIGNED NOT NULL,\n",
    "    LoserScore SMALLINT,\n",
    "    LoserFirstHalfScore SMALLINT,\n",
    "    LoserSecondHalfScore SMALLINT,\n",
    "    LoserFirstHalfSide VARCHAR(2),\n",
    "    LoserOTScore SMALLINT DEFAULT 0,\n",
    "    DemoParsed BOOLEAN DEFAULT false NOT NULL,\n",
    "    Created TIMESTAMP NOT NULL DEFAULT CURRENT_TIMESTAMP,\n",
    "    Updated TIMESTAMP NOT NULL DEFAULT CURRENT_TIMESTAMP ON UPDATE NOW(),\n",
    "    PRIMARY KEY (MatchId, MapName),\n",
    "    FOREIGN KEY (MatchId) REFERENCES Matches(MatchId),\n",
    "    FOREIGN KEY (WinnerId) REFERENCES Teams(TeamId),\n",
    "    FOREIGN KEY (LoserId) REFERENCES Teams(TeamId)\n",
    ");\n",
    "MAP SELECTIONS: \n",
    "CREATE TABLE Map_Selections (\n",
    "    MatchId BIGINT UNSIGNED NOT NULL,\n",
    "    MapName VARCHAR(20),\n",
    "    DecisionOrder SMALLINT,\n",
    "    DecisionTeamId BIGINT UNSIGNED NOT NULL,\n",
    "    OtherTeamId BIGINT UNSIGNED NOT NULL,\n",
    "    Decision VARCHAR(20),\n",
    "    Created TIMESTAMP NOT NULL DEFAULT CURRENT_TIMESTAMP,\n",
    "    Updated TIMESTAMP NOT NULL DEFAULT CURRENT_TIMESTAMP ON UPDATE NOW(),\n",
    "    PRIMARY KEY (\n",
    "        MatchId,\n",
    "        MapName,\n",
    "        DecisionTeamId,\n",
    "        OtherTeamId,\n",
    "        Decision\n",
    "    ),\n",
    "    FOREIGN KEY (MatchId) REFERENCES Matches(MatchId),\n",
    "    FOREIGN KEY (DecisionTeamId) REFERENCES Teams(TeamId),\n",
    "    FOREIGN KEY (OtherTeamId) REFERENCES Teams(TeamId)\n",
    ");\n",
    "MATCHES: \n",
    "CREATE TABLE Matches (\n",
    "    MatchId SERIAL,\n",
    "    HLTVMatchId INT UNIQUE,\n",
    "    CompetitionId BIGINT UNSIGNED,\n",
    "    HLTVLink VARCHAR(300) UNIQUE,\n",
    "    MatchType VARCHAR(14),\n",
    "    MatchDate DATE,\n",
    "    MatchTime TIME,\n",
    "    Stars SMALLINT DEFAULT 0,\n",
    "    Slug VARCHAR(100) DEFAULT NULL,\n",
    "    WinnerId BIGINT UNSIGNED NOT NULL,\n",
    "    WinnerScore SMALLINT DEFAULT 0,\n",
    "    LoserId BIGINT UNSIGNED NOT NULL,\n",
    "    LoserScore SMALLINT DEFAULT 0,\n",
    "    Created TIMESTAMP NOT NULL DEFAULT CURRENT_TIMESTAMP,\n",
    "    Updated TIMESTAMP NOT NULL DEFAULT CURRENT_TIMESTAMP ON UPDATE NOW(),\n",
    "    PRIMARY KEY (MatchId),\n",
    "    FOREIGN KEY (CompetitionId) REFERENCES Competitions(CompetitionId),\n",
    "    FOREIGN KEY (WinnerId) REFERENCES Teams(TeamId),\n",
    "    FOREIGN KEY (LoserId) REFERENCES Teams(TeamId)\n",
    ");\n",
    "PLAYER DEMOS: \n",
    "CREATE TABLE PlayerDemos (\n",
    "    MatchId BIGINT UNSIGNED,\n",
    "    PlayerId BIGINT UNSIGNED,\n",
    "    TeamId BIGINT UNSIGNED,\n",
    "    MapName VARCHAR(20),\n",
    "    Side VARCHAR(3),\n",
    "    Kills SMALLINT,\n",
    "    Deaths SMALLINT,\n",
    "    ADR FLOAT,\n",
    "    KAST FLOAT,\n",
    "    HLTVRating FLOAT,\n",
    "    Created TIMESTAMP NOT NULL DEFAULT CURRENT_TIMESTAMP,\n",
    "    Updated TIMESTAMP NOT NULL DEFAULT CURRENT_TIMESTAMP ON UPDATE NOW(),\n",
    "    PRIMARY KEY (MatchId, PlayerId, TeamId, MapName, Side),\n",
    "    FOREIGN KEY (MatchId) REFERENCES Matches(MatchId),\n",
    "    FOREIGN KEY (PlayerId) REFERENCES Players(PlayerId),\n",
    "    FOREIGN KEY (TeamId) REFERENCES Teams(TeamId)\n",
    ");\n",
    "PLAYERS: \n",
    "CREATE TABLE Players (\n",
    "    PlayerId SERIAL,\n",
    "    HLTVPlayerId INTEGER UNIQUE,\n",
    "    HLTVLink VARCHAR(300) UNIQUE,\n",
    "    Country VARCHAR(100),\n",
    "    RealName VARCHAR(100),\n",
    "    PlayerName VARCHAR(50),\n",
    "    Facebook VARCHAR(300),\n",
    "    Twitter VARCHAR(300),\n",
    "    Twitch VARCHAR(300),\n",
    "    Created TIMESTAMP NOT NULL DEFAULT CURRENT_TIMESTAMP,\n",
    "    Updated TIMESTAMP NOT NULL DEFAULT CURRENT_TIMESTAMP ON UPDATE NOW(),\n",
    "    PRIMARY KEY (PlayerId)\n",
    ");\n",
    "TEAMS: \n",
    "CREATE TABLE Teams (\n",
    "    TeamId SERIAL,\n",
    "    HLTVTeamId INTEGER UNIQUE,\n",
    "    HLTVLink VARCHAR(300) UNIQUE,\n",
    "    TeamName VARCHAR(200),\n",
    "    Country VARCHAR(100),\n",
    "    Twitter VARCHAR(300),\n",
    "    Facebook VARCHAR(300),\n",
    "    Created TIMESTAMP NOT NULL DEFAULT CURRENT_TIMESTAMP,\n",
    "    Updated TIMESTAMP NOT NULL DEFAULT CURRENT_TIMESTAMP ON UPDATE NOW(),\n",
    "    PRIMARY KEY (TeamId)\n",
    ");\n",
    "```"
   ]
  },
  {
   "cell_type": "code",
   "execution_count": 1,
   "id": "portuguese-majority",
   "metadata": {},
   "outputs": [],
   "source": [
    "import numpy as np\n",
    "import pandas as pd\n",
    "import matplotlib.pyplot as plt\n"
   ]
  },
  {
   "cell_type": "code",
   "execution_count": 2,
   "id": "parental-compression",
   "metadata": {},
   "outputs": [],
   "source": [
    "cols_competitions = [\n",
    "    'CompetitionId',\n",
    "    'HLTVCompetitionId',\n",
    "    'HLTVLink' ,\n",
    "    'CompetitionName' ,\n",
    "    'Slug',\n",
    "    'TeamsCompeting' ,\n",
    "    'PrizePool' ,\n",
    "    'CompetitionLocation',\n",
    "    'StartDate' ,\n",
    "    'EndDate' ,\n",
    "    'Created',\n",
    "    'Updated',]\n",
    "cols_demos = [\n",
    "    'MatchId',\n",
    "    'MapName' ,\n",
    "    'WinnerId' ,\n",
    "    'WinnerScore' ,\n",
    "    'WinnerFirstHalfScore' ,\n",
    "    'WinnerSecondHalfScore' ,\n",
    "    'WinnerFirstHalfSide' ,\n",
    "    'WinnerOTScore' ,\n",
    "    'LoserId' ,\n",
    "    'LoserScore' ,\n",
    "    'LoserFirstHalfScore' ,\n",
    "    'LoserSecondHalfScore' ,\n",
    "    'LoserFirstHalfSide' ,\n",
    "    'LoserOTScore' ,\n",
    "    'DemoParsed' ,\n",
    "    'Created' ,\n",
    "    'Updated']\n",
    "cols_map_picks = [\n",
    "    'MatchId',\n",
    "    'MapName',\n",
    "    'DecisionOrder',\n",
    "    'DecisionTeamId',\n",
    "    'OtherTeamId',\n",
    "    'Decision',\n",
    "    'Created',\n",
    "    'Updated']\n",
    "cols_matches = [\n",
    "    'MatchId',\n",
    "    'HLTVMatchId',\n",
    "    'CompetitionId',\n",
    "    'HLTVLink',\n",
    "    'MatchType',\n",
    "    'MatchDate',\n",
    "    'MatchTime',\n",
    "    'Stars',\n",
    "    'Slug',\n",
    "    'WinnerId',\n",
    "    'WinnerScore',\n",
    "    'LoserId',\n",
    "    'LoserScore',\n",
    "    'Created',\n",
    "    'Updated']\n",
    "cols_player_demo = [\n",
    "    'MatchId',\n",
    "    'PlayerId' ,\n",
    "    'TeamId' ,\n",
    "    'MapName' ,\n",
    "    'Side' ,\n",
    "    'Kills',\n",
    "    'Deaths' ,\n",
    "    'ADR FLOAT',\n",
    "    'KAST FLOAT',\n",
    "    'HLTVRating' ,\n",
    "    'Created',\n",
    "    'Updated']\n",
    "\n",
    "cols_players = [\n",
    "    'PlayerId',\n",
    "    'HLTVPlayerId',\n",
    "    'HLTVLink',\n",
    "    'Country' ,\n",
    "    'RealName' ,\n",
    "    'PlayerName',\n",
    "    'Facebook',\n",
    "    'Twitter',\n",
    "    'Twitch']\n",
    "\n",
    "cols_teams = [\n",
    "    'TeamId',\n",
    "    'HLTVTeamId',\n",
    "    'HLTVLink',\n",
    "    'TeamName',\n",
    "    'Country',\n",
    "    'Twitter',\n",
    "    'Facebook',\n",
    "    'Created',\n",
    "    'Updated']\n",
    "\n",
    "data_dir = 'data/'\n",
    "\n",
    "competitions = pd.read_csv(data_dir+'competitions.csv',names = cols_competitions)\n",
    "demos = pd.read_csv(data_dir+'demos.csv',names = cols_demos)\n",
    "map_picks = pd.read_csv(data_dir+'map_picks.csv',names = cols_map_picks)\n",
    "matches = pd.read_csv(data_dir+'matches.csv',names = cols_matches)\n",
    "player_demos = pd.read_csv(data_dir+'player_demos.csv',names = cols_player_demo)\n",
    "players = pd.read_csv(data_dir+'players.csv',names = cols_players)\n",
    "teams = pd.read_csv(data_dir+'teams.csv',names = cols_teams)\n"
   ]
  },
  {
   "cell_type": "markdown",
   "id": "lesser-campus",
   "metadata": {},
   "source": []
  },
  {
   "cell_type": "markdown",
   "id": "paperback-france",
   "metadata": {},
   "source": [
    "# Games Per month"
   ]
  },
  {
   "cell_type": "code",
   "execution_count": 3,
   "id": "disturbed-roots",
   "metadata": {},
   "outputs": [],
   "source": [
    "match_dates = pd.to_datetime(matches['MatchDate'])"
   ]
  },
  {
   "cell_type": "code",
   "execution_count": 4,
   "id": "strategic-greeting",
   "metadata": {},
   "outputs": [
    {
     "name": "stdout",
     "output_type": "stream",
     "text": [
      "2021-04-01 00:00:00\n",
      "2020-03-31 00:00:00\n"
     ]
    }
   ],
   "source": [
    "print(match_dates.max())\n",
    "print(match_dates.min())"
   ]
  },
  {
   "cell_type": "code",
   "execution_count": 5,
   "id": "convenient-campaign",
   "metadata": {},
   "outputs": [
    {
     "data": {
      "text/plain": [
       "Text(0, 0.5, 'count')"
      ]
     },
     "execution_count": 5,
     "metadata": {},
     "output_type": "execute_result"
    },
    {
     "data": {
      "image/png": "[encoded data removed]",
      "text/plain": [
       "<Figure size 432x288 with 1 Axes>"
      ]
     },
     "metadata": {
      "needs_background": "light"
     },
     "output_type": "display_data"
    }
   ],
   "source": [
    "plt.hist(pd.to_datetime(matches['MatchDate']),bins=12)\n",
    "plt.title('Games per month')\n",
    "plt.xlabel('month')\n",
    "plt.ylabel('count')"
   ]
  },
  {
   "cell_type": "markdown",
   "id": "magnetic-edward",
   "metadata": {},
   "source": [
    "Probably should split last two-three months off as test set"
   ]
  },
  {
   "cell_type": "code",
   "execution_count": null,
   "id": "painted-magic",
   "metadata": {},
   "outputs": [],
   "source": [
    "\n"
   ]
  },
  {
   "cell_type": "markdown",
   "id": "bibliographic-revelation",
   "metadata": {},
   "source": [
    "# Looking at Matches  (Note: not games)"
   ]
  },
  {
   "cell_type": "markdown",
   "id": "certified-eleven",
   "metadata": {},
   "source": [
    "### Winloss_df"
   ]
  },
  {
   "cell_type": "code",
   "execution_count": 6,
   "id": "saving-genome",
   "metadata": {},
   "outputs": [],
   "source": [
    "cutoff =10\n",
    "wins_df = matches['WinnerId'].value_counts().reset_index().rename(columns={'index' : 'TeamId','WinnerId' : 'Wins'})\n",
    "losses_df = matches['LoserId'].value_counts().reset_index().rename(columns={'index' : 'TeamId','LoserId' : 'Losses'})\n",
    "\n",
    "winloss_df = wins_df.merge(losses_df,on = 'TeamId',how = 'outer').fillna(0)\n",
    "winloss_df['total'] = winloss_df['Wins'] + winloss_df['Losses']\n",
    "winloss_df = winloss_df.sort_values(by='total',ascending=False)"
   ]
  },
  {
   "cell_type": "code",
   "execution_count": 7,
   "id": "racial-yemen",
   "metadata": {},
   "outputs": [
    {
     "data": {
      "image/png": "[encoded data removed]",
      "text/plain": [
       "<Figure size 432x288 with 1 Axes>"
      ]
     },
     "metadata": {
      "needs_background": "light"
     },
     "output_type": "display_data"
    }
   ],
   "source": [
    "plt.hist(winloss_df['total'],bins=np.arange(0,200,5))\n",
    "plt.title('Histogram of Matches played per team')\n",
    "plt.xlabel('Matches played per team')\n",
    "plt.ylabel('Count')\n",
    "\n",
    "plt.show()"
   ]
  },
  {
   "cell_type": "code",
   "execution_count": 8,
   "id": "immune-depression",
   "metadata": {},
   "outputs": [
    {
     "name": "stdout",
     "output_type": "stream",
     "text": [
      "244\n"
     ]
    }
   ],
   "source": [
    "team_ids_over_cutoff = winloss_df[winloss_df['total']>=cutoff]['TeamId']\n",
    "print(len(team_ids_over_cutoff))"
   ]
  },
  {
   "cell_type": "markdown",
   "id": "cheap-hygiene",
   "metadata": {},
   "source": [
    "628 Unique Teams (with matches played) in the dataset. Note: 'Teams' dataframe containts 636 teams.\n",
    "244 Unique Teams with more than 10 matches played."
   ]
  },
  {
   "cell_type": "markdown",
   "id": "unnecessary-multiple",
   "metadata": {},
   "source": [
    "# Repeated Team Matchups\n"
   ]
  },
  {
   "cell_type": "code",
   "execution_count": 9,
   "id": "inside-right",
   "metadata": {},
   "outputs": [],
   "source": [
    "def create_both_team_ids(match_row):\n",
    "    team1_id = match_row['WinnerId']\n",
    "    team2_id = match_row['LoserId']\n",
    "    if team1_id < team2_id:\n",
    "        both_team_ids = str(team1_id) + '+' + str(team2_id)\n",
    "    else:\n",
    "        both_team_ids = str(team2_id) + '+' + str(team1_id)\n",
    "\n",
    "    return both_team_ids\n",
    "    "
   ]
  },
  {
   "cell_type": "code",
   "execution_count": 10,
   "id": "waiting-closer",
   "metadata": {},
   "outputs": [],
   "source": [
    "matches_adj = matches[['WinnerId','LoserId']]\n"
   ]
  },
  {
   "cell_type": "code",
   "execution_count": 11,
   "id": "composite-stocks",
   "metadata": {},
   "outputs": [
    {
     "name": "stderr",
     "output_type": "stream",
     "text": [
      "/home/jolteon/miniconda3/lib/python3.8/site-packages/pandas/core/indexing.py:1637: SettingWithCopyWarning: \n",
      "A value is trying to be set on a copy of a slice from a DataFrame\n",
      "\n",
      "See the caveats in the documentation: https://pandas.pydata.org/pandas-docs/stable/user_guide/indexing.html#returning-a-view-versus-a-copy\n",
      "  self._setitem_single_block(indexer, value, name)\n",
      "/home/jolteon/miniconda3/lib/python3.8/site-packages/pandas/core/indexing.py:692: SettingWithCopyWarning: \n",
      "A value is trying to be set on a copy of a slice from a DataFrame\n",
      "\n",
      "See the caveats in the documentation: https://pandas.pydata.org/pandas-docs/stable/user_guide/indexing.html#returning-a-view-versus-a-copy\n",
      "  iloc._setitem_with_indexer(indexer, value, self.name)\n"
     ]
    }
   ],
   "source": [
    "# Replace all teams that didn't play enough games with TeamID=0.\n",
    "# One can think of TeamId = 0 as a \"pro team with no/minimal history\"\n",
    "matches_adj.loc[~matches_adj['WinnerId'].isin(team_ids_over_cutoff),'WinnerId'] = 0\n",
    "matches_adj.loc[~matches_adj['LoserId'].isin(team_ids_over_cutoff),'LoserId'] = 0"
   ]
  },
  {
   "cell_type": "code",
   "execution_count": 12,
   "id": "tribal-garden",
   "metadata": {},
   "outputs": [
    {
     "name": "stderr",
     "output_type": "stream",
     "text": [
      "<ipython-input-12-34371418dcc0>:1: SettingWithCopyWarning: \n",
      "A value is trying to be set on a copy of a slice from a DataFrame.\n",
      "Try using .loc[row_indexer,col_indexer] = value instead\n",
      "\n",
      "See the caveats in the documentation: https://pandas.pydata.org/pandas-docs/stable/user_guide/indexing.html#returning-a-view-versus-a-copy\n",
      "  matches_adj['BothTeamIds'] = matches_adj.apply(create_both_team_ids,axis=1)\n"
     ]
    }
   ],
   "source": [
    "matches_adj['BothTeamIds'] = matches_adj.apply(create_both_team_ids,axis=1)"
   ]
  },
  {
   "cell_type": "code",
   "execution_count": 40,
   "id": "liberal-technician",
   "metadata": {},
   "outputs": [
    {
     "data": {
      "image/png": "[encoded data removed]",
      "text/plain": [
       "<Figure size 432x288 with 1 Axes>"
      ]
     },
     "metadata": {
      "needs_background": "light"
     },
     "output_type": "display_data"
    }
   ],
   "source": [
    "plt.hist(matches_adj['BothTeamIds'].value_counts(),bins=np.arange(0,30,1))\n",
    "plt.title('Histogram of repeated team matches')\n",
    "plt.xlabel('Number of team matchup occurences')\n",
    "plt.ylabel('Counts')\n",
    "plt.show()\n"
   ]
  },
  {
   "cell_type": "code",
   "execution_count": null,
   "id": "round-electricity",
   "metadata": {},
   "outputs": [],
   "source": []
  },
  {
   "cell_type": "code",
   "execution_count": 14,
   "id": "discrete-baptist",
   "metadata": {},
   "outputs": [],
   "source": [
    "matches_reduced=matches.copy()\n",
    "matches_reduced = matches_reduced[matches_reduced['WinnerId'].isin(team_ids_over_cutoff) | matches_reduced['LoserId'].isin(team_ids_over_cutoff)]\n",
    "matches_reduced['BothTeamIds'] = matches_reduced.apply(create_both_team_ids,axis=1)"
   ]
  },
  {
   "cell_type": "code",
   "execution_count": 15,
   "id": "incomplete-ceremony",
   "metadata": {},
   "outputs": [
    {
     "data": {
      "text/plain": [
       "3579"
      ]
     },
     "execution_count": 15,
     "metadata": {},
     "output_type": "execute_result"
    }
   ],
   "source": [
    "matches_reduced.BothTeamIds.nunique()"
   ]
  },
  {
   "cell_type": "markdown",
   "id": "continent-korea",
   "metadata": {},
   "source": [
    "# Trying to get a sense of possible uneven distribution of games in train vs test set\n",
    "\n",
    "### work in progress"
   ]
  },
  {
   "cell_type": "code",
   "execution_count": 24,
   "id": "pretty-grain",
   "metadata": {},
   "outputs": [],
   "source": [
    "team_id_many_games = winloss_df.head(20)['TeamId']"
   ]
  },
  {
   "cell_type": "code",
   "execution_count": 25,
   "id": "inclusive-shirt",
   "metadata": {},
   "outputs": [
    {
     "data": {
      "image/png": "[encoded data removed]",
      "text/plain": [
       "<Figure size 432x288 with 1 Axes>"
      ]
     },
     "metadata": {
      "needs_background": "light"
     },
     "output_type": "display_data"
    }
   ],
   "source": [
    "matches['MatchDate'] = pd.to_datetime(matches['MatchDate'])\n",
    "matches['MatchMonth'] = matches['MatchDate'].dt.month\n",
    "prop_list = []\n",
    "for team_id in team_id_many_games:\n",
    "    team_matches = matches[(matches['WinnerId']==team_id) | (matches['LoserId'] == team_id)] \n",
    "    team_prop = team_matches['MatchMonth'].value_counts(normalize=True)\n",
    "    prop_list.append(team_prop.reset_index().set_index('index'))\n",
    "prop_df  = pd.concat(prop_list,axis=1).transpose().fillna(0)\n",
    "for (name, row) in prop_df.iterrows():\n",
    "    plt.plot(row)\n",
    "plt.title('Proportions of matches played per month (top 10 teams)')\n",
    "plt.xlabel('Month')\n",
    "plt.ylabel('Proportion')\n",
    "plt.show()"
   ]
  },
  {
   "cell_type": "markdown",
   "id": "empirical-football",
   "metadata": {},
   "source": [
    "# MHS functions:"
   ]
  },
  {
   "cell_type": "code",
   "execution_count": 34,
   "id": "continuing-output",
   "metadata": {},
   "outputs": [],
   "source": [
    "def build_team_record_df(teams,demos):\n",
    "    '''Creates team_record dataframe where each row is a Team, columns are various stats.\n",
    "       Inputs are dataframes of the .csvs of the same name.\n",
    "       Output is a dataframe indexed by teamid'''\n",
    "    # All team IDs\n",
    "    team_record = pd.DataFrame(teams['TeamId'].unique().astype(int),columns=['TeamId'])\n",
    "    # Wins and losses (For games, not matches) by team ID\n",
    "    game_wins = demos['WinnerId'].value_counts()\n",
    "    game_losses = demos['LoserId'].value_counts()\n",
    "    # merge wins and losses \n",
    "    team_record = team_record.merge(game_wins,left_on='TeamId',right_index=True,how='left').fillna(0).astype(int)\n",
    "    team_record = team_record.merge(game_losses,left_on='TeamId',right_index=True,how='left').fillna(0).astype(int)\n",
    "    team_record.rename(columns={\"WinnerId\": \"GameWins\", \"LoserId\": \"GameLosses\"},inplace=True)\n",
    "    team_record['TotalGames'] = team_record['GameWins']+team_record['GameLosses'].astype(int)\n",
    "    team_record['WinPercent'] = (team_record['GameWins']/team_record['TotalGames']).fillna(0)\n",
    "    # Set index to team_id, to simplify things\n",
    "    team_record.set_index('TeamId',drop=False,inplace=True)\n",
    "    return team_record    \n",
    "\n",
    "def win_pct_by_map(demos,team_record):\n",
    "    '''Calculates win percentage by map for teams in team_record \n",
    "       and appends win/loss/matches/win_pct columns to team_record.\n",
    "       demos - the demos dataframe, no alterations\n",
    "       team_record - output of build_team_record_df, or a filtered version (i.e. removing few-match teams)\n",
    "       '''\n",
    "    \n",
    "    # Count wins and losses by map and by team\n",
    "    wins = demos.groupby(['WinnerId','MapName']).count()['MatchId']\n",
    "    losses = demos.groupby(['LoserId','MapName']).count()['MatchId']\n",
    "    \n",
    "    # Fills the dataframe with wins and losses, sums for matches, divides for win_pct\n",
    "    for m in demos['MapName'].unique():\n",
    "        for t in team_record['TeamId']:\n",
    "            # Wins\n",
    "            try:\n",
    "                team_record.loc[t,m+'_wins'] = wins[(t,m)]\n",
    "            except KeyError:\n",
    "                team_record.loc[t,m+'_wins'] = 0\n",
    "            # Losses\n",
    "            try:\n",
    "                team_record.loc[t,m+'_losses'] = losses[(t,m)]\n",
    "            except KeyError:\n",
    "                team_record.loc[t,m+'_losses'] = 0\n",
    "        team_record[m+'_games'] = team_record[m+'_wins'] + team_record[m+'_losses']\n",
    "        # Map level win percentage\n",
    "        team_record[m+'_win_pct'] = team_record[m+'_wins'] / team_record[m+'_games']\n",
    "\n",
    "    return team_record"
   ]
  },
  {
   "cell_type": "code",
   "execution_count": 35,
   "id": "imported-bangladesh",
   "metadata": {},
   "outputs": [],
   "source": [
    "team_record = build_team_record_df(teams,demos)\n",
    "team_record = win_pct_by_map(demos,team_record)"
   ]
  },
  {
   "cell_type": "code",
   "execution_count": 39,
   "id": "bridal-frederick",
   "metadata": {},
   "outputs": [
    {
     "data": {
      "text/plain": [
       "Index(['TeamId', 'GameWins', 'GameLosses', 'TotalGames', 'WinPercent',\n",
       "       'de_inferno_wins', 'de_inferno_losses', 'de_inferno_games',\n",
       "       'de_inferno_win_pct', 'de_nuke_wins', 'de_nuke_losses', 'de_nuke_games',\n",
       "       'de_nuke_win_pct', 'de_dust2_wins', 'de_dust2_losses', 'de_dust2_games',\n",
       "       'de_dust2_win_pct', 'de_vertigo_wins', 'de_vertigo_losses',\n",
       "       'de_vertigo_games', 'de_vertigo_win_pct', 'de_mirage_wins',\n",
       "       'de_mirage_losses', 'de_mirage_games', 'de_mirage_win_pct',\n",
       "       'de_train_wins', 'de_train_losses', 'de_train_games',\n",
       "       'de_train_win_pct', 'de_overpass_wins', 'de_overpass_losses',\n",
       "       'de_overpass_games', 'de_overpass_win_pct', 'de_cache_wins',\n",
       "       'de_cache_losses', 'de_cache_games', 'de_cache_win_pct',\n",
       "       'de_tuscan_wins', 'de_tuscan_losses', 'de_tuscan_games',\n",
       "       'de_tuscan_win_pct', 'de_cobblestone_wins', 'de_cobblestone_losses',\n",
       "       'de_cobblestone_games', 'de_cobblestone_win_pct'],\n",
       "      dtype='object')"
      ]
     },
     "execution_count": 39,
     "metadata": {},
     "output_type": "execute_result"
    }
   ],
   "source": [
    "team_record.columns"
   ]
  },
  {
   "cell_type": "code",
   "execution_count": 29,
   "id": "interesting-voltage",
   "metadata": {},
   "outputs": [
    {
     "data": {
      "text/html": [
       "<div>\n",
       "<style scoped>\n",
       "    .dataframe tbody tr th:only-of-type {\n",
       "        vertical-align: middle;\n",
       "    }\n",
       "\n",
       "    .dataframe tbody tr th {\n",
       "        vertical-align: top;\n",
       "    }\n",
       "\n",
       "    .dataframe thead th {\n",
       "        text-align: right;\n",
       "    }\n",
       "</style>\n",
       "<table border=\"1\" class=\"dataframe\">\n",
       "  <thead>\n",
       "    <tr style=\"text-align: right;\">\n",
       "      <th></th>\n",
       "      <th>TeamId</th>\n",
       "      <th>HLTVTeamId</th>\n",
       "      <th>HLTVLink</th>\n",
       "      <th>TeamName</th>\n",
       "      <th>Country</th>\n",
       "      <th>Twitter</th>\n",
       "      <th>Facebook</th>\n",
       "      <th>Created</th>\n",
       "      <th>Updated</th>\n",
       "    </tr>\n",
       "  </thead>\n",
       "  <tbody>\n",
       "    <tr>\n",
       "      <th>0</th>\n",
       "      <td>1</td>\n",
       "      <td>11035</td>\n",
       "      <td>https://www.hltv.org/team/11035/gladiators</td>\n",
       "      <td>GLADIATORS</td>\n",
       "      <td>Russia</td>\n",
       "      <td>N,N</td>\n",
       "      <td>2021-04-09 18:44:23</td>\n",
       "      <td>2021-04-09 18:44:23</td>\n",
       "      <td>NaN</td>\n",
       "    </tr>\n",
       "    <tr>\n",
       "      <th>1</th>\n",
       "      <td>2</td>\n",
       "      <td>7900</td>\n",
       "      <td>https://www.hltv.org/team/7900/spirit-academy</td>\n",
       "      <td>Spirit Academy</td>\n",
       "      <td>CIS</td>\n",
       "      <td>N,N</td>\n",
       "      <td>2021-04-09 18:44:24</td>\n",
       "      <td>2021-04-09 18:44:24</td>\n",
       "      <td>NaN</td>\n",
       "    </tr>\n",
       "    <tr>\n",
       "      <th>2</th>\n",
       "      <td>3</td>\n",
       "      <td>11080</td>\n",
       "      <td>https://www.hltv.org/team/11080/caronte</td>\n",
       "      <td>Caronte</td>\n",
       "      <td>Spain</td>\n",
       "      <td>N,N</td>\n",
       "      <td>2021-04-09 18:44:28</td>\n",
       "      <td>2021-04-09 18:44:28</td>\n",
       "      <td>NaN</td>\n",
       "    </tr>\n",
       "    <tr>\n",
       "      <th>3</th>\n",
       "      <td>4</td>\n",
       "      <td>8362</td>\n",
       "      <td>https://www.hltv.org/team/8362/mad-lions</td>\n",
       "      <td>MAD Lions</td>\n",
       "      <td>Europe</td>\n",
       "      <td>N,N</td>\n",
       "      <td>2021-04-09 18:44:29</td>\n",
       "      <td>2021-04-09 18:44:29</td>\n",
       "      <td>NaN</td>\n",
       "    </tr>\n",
       "    <tr>\n",
       "      <th>4</th>\n",
       "      <td>5</td>\n",
       "      <td>7718</td>\n",
       "      <td>https://www.hltv.org/team/7718/movistar-riders</td>\n",
       "      <td>Movistar Riders</td>\n",
       "      <td>Europe</td>\n",
       "      <td>N,N</td>\n",
       "      <td>2021-04-09 18:44:29</td>\n",
       "      <td>2021-04-09 18:44:29</td>\n",
       "      <td>NaN</td>\n",
       "    </tr>\n",
       "    <tr>\n",
       "      <th>...</th>\n",
       "      <td>...</td>\n",
       "      <td>...</td>\n",
       "      <td>...</td>\n",
       "      <td>...</td>\n",
       "      <td>...</td>\n",
       "      <td>...</td>\n",
       "      <td>...</td>\n",
       "      <td>...</td>\n",
       "      <td>...</td>\n",
       "    </tr>\n",
       "    <tr>\n",
       "      <th>631</th>\n",
       "      <td>635</td>\n",
       "      <td>7174</td>\n",
       "      <td>https://www.hltv.org/team/7174/hatemania</td>\n",
       "      <td>hateMania</td>\n",
       "      <td>Ukraine</td>\n",
       "      <td>N,N</td>\n",
       "      <td>2021-04-09 22:38:15</td>\n",
       "      <td>2021-04-09 22:38:15</td>\n",
       "      <td>NaN</td>\n",
       "    </tr>\n",
       "    <tr>\n",
       "      <th>632</th>\n",
       "      <td>636</td>\n",
       "      <td>11079</td>\n",
       "      <td>https://www.hltv.org/team/11079/trasko</td>\n",
       "      <td>Trasko</td>\n",
       "      <td>Ukraine</td>\n",
       "      <td>N,N</td>\n",
       "      <td>2021-04-09 22:39:45</td>\n",
       "      <td>2021-04-09 22:39:45</td>\n",
       "      <td>NaN</td>\n",
       "    </tr>\n",
       "    <tr>\n",
       "      <th>633</th>\n",
       "      <td>637</td>\n",
       "      <td>11077</td>\n",
       "      <td>https://www.hltv.org/team/11077/verum</td>\n",
       "      <td>Verum</td>\n",
       "      <td>United States</td>\n",
       "      <td>N,N</td>\n",
       "      <td>2021-04-09 22:40:06</td>\n",
       "      <td>2021-04-09 22:40:06</td>\n",
       "      <td>NaN</td>\n",
       "    </tr>\n",
       "    <tr>\n",
       "      <th>634</th>\n",
       "      <td>638</td>\n",
       "      <td>8161</td>\n",
       "      <td>https://www.hltv.org/team/8161/cyberstorm</td>\n",
       "      <td>Cyberstorm</td>\n",
       "      <td>North America</td>\n",
       "      <td>N,N</td>\n",
       "      <td>2021-04-09 22:40:55</td>\n",
       "      <td>2021-04-09 22:40:55</td>\n",
       "      <td>NaN</td>\n",
       "    </tr>\n",
       "    <tr>\n",
       "      <th>635</th>\n",
       "      <td>639</td>\n",
       "      <td>11076</td>\n",
       "      <td>https://www.hltv.org/team/11076/uyu</td>\n",
       "      <td>UYU</td>\n",
       "      <td>United States</td>\n",
       "      <td>N,N</td>\n",
       "      <td>2021-04-09 22:41:26</td>\n",
       "      <td>2021-04-09 22:41:26</td>\n",
       "      <td>NaN</td>\n",
       "    </tr>\n",
       "  </tbody>\n",
       "</table>\n",
       "<p>636 rows × 9 columns</p>\n",
       "</div>"
      ],
      "text/plain": [
       "     TeamId  HLTVTeamId                                        HLTVLink  \\\n",
       "0         1       11035      https://www.hltv.org/team/11035/gladiators   \n",
       "1         2        7900   https://www.hltv.org/team/7900/spirit-academy   \n",
       "2         3       11080         https://www.hltv.org/team/11080/caronte   \n",
       "3         4        8362        https://www.hltv.org/team/8362/mad-lions   \n",
       "4         5        7718  https://www.hltv.org/team/7718/movistar-riders   \n",
       "..      ...         ...                                             ...   \n",
       "631     635        7174        https://www.hltv.org/team/7174/hatemania   \n",
       "632     636       11079          https://www.hltv.org/team/11079/trasko   \n",
       "633     637       11077           https://www.hltv.org/team/11077/verum   \n",
       "634     638        8161       https://www.hltv.org/team/8161/cyberstorm   \n",
       "635     639       11076             https://www.hltv.org/team/11076/uyu   \n",
       "\n",
       "            TeamName        Country Twitter             Facebook  \\\n",
       "0         GLADIATORS         Russia     N,N  2021-04-09 18:44:23   \n",
       "1     Spirit Academy            CIS     N,N  2021-04-09 18:44:24   \n",
       "2            Caronte          Spain     N,N  2021-04-09 18:44:28   \n",
       "3          MAD Lions         Europe     N,N  2021-04-09 18:44:29   \n",
       "4    Movistar Riders         Europe     N,N  2021-04-09 18:44:29   \n",
       "..               ...            ...     ...                  ...   \n",
       "631        hateMania        Ukraine     N,N  2021-04-09 22:38:15   \n",
       "632           Trasko        Ukraine     N,N  2021-04-09 22:39:45   \n",
       "633            Verum  United States     N,N  2021-04-09 22:40:06   \n",
       "634       Cyberstorm  North America     N,N  2021-04-09 22:40:55   \n",
       "635              UYU  United States     N,N  2021-04-09 22:41:26   \n",
       "\n",
       "                 Created  Updated  \n",
       "0    2021-04-09 18:44:23      NaN  \n",
       "1    2021-04-09 18:44:24      NaN  \n",
       "2    2021-04-09 18:44:28      NaN  \n",
       "3    2021-04-09 18:44:29      NaN  \n",
       "4    2021-04-09 18:44:29      NaN  \n",
       "..                   ...      ...  \n",
       "631  2021-04-09 22:38:15      NaN  \n",
       "632  2021-04-09 22:39:45      NaN  \n",
       "633  2021-04-09 22:40:06      NaN  \n",
       "634  2021-04-09 22:40:55      NaN  \n",
       "635  2021-04-09 22:41:26      NaN  \n",
       "\n",
       "[636 rows x 9 columns]"
      ]
     },
     "execution_count": 29,
     "metadata": {},
     "output_type": "execute_result"
    }
   ],
   "source": [
    "teams"
   ]
  },
  {
   "cell_type": "code",
   "execution_count": null,
   "id": "aerial-bhutan",
   "metadata": {},
   "outputs": [],
   "source": []
  },
  {
   "cell_type": "code",
   "execution_count": null,
   "id": "republican-million",
   "metadata": {},
   "outputs": [],
   "source": []
  }
 ],
 "metadata": {
  "kernelspec": {
   "display_name": "Python 3",
   "language": "python",
   "name": "python3"
  },
  "language_info": {
   "codemirror_mode": {
    "name": "ipython",
    "version": 3
   },
   "file_extension": ".py",
   "mimetype": "text/x-python",
   "name": "python",
   "nbconvert_exporter": "python",
   "pygments_lexer": "ipython3",
   "version": "3.8.5"
  }
 },
 "nbformat": 4,
 "nbformat_minor": 5
}
