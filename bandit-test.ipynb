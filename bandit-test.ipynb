{
 "cells": [
  {
   "cell_type": "code",
   "execution_count": 1,
   "id": "stone-oracle",
   "metadata": {},
   "outputs": [
    {
     "name": "stdout",
     "output_type": "stream",
     "text": [
      "Finished Basic Context Engineering\n"
     ]
    }
   ],
   "source": [
    "import pandas as pd\n",
    "import numpy as np\n",
    "from context_engineering_functions import create_basic_triples\n",
    "\n",
    "context = create_basic_triples('csgo_clean', save=False)"
   ]
  },
  {
   "cell_type": "code",
   "execution_count": 2,
   "id": "palestinian-communication",
   "metadata": {},
   "outputs": [
    {
     "data": {
      "text/html": [
       "<div>\n",
       "<style scoped>\n",
       "    .dataframe tbody tr th:only-of-type {\n",
       "        vertical-align: middle;\n",
       "    }\n",
       "\n",
       "    .dataframe tbody tr th {\n",
       "        vertical-align: top;\n",
       "    }\n",
       "\n",
       "    .dataframe thead th {\n",
       "        text-align: right;\n",
       "    }\n",
       "</style>\n",
       "<table border=\"1\" class=\"dataframe\">\n",
       "  <thead>\n",
       "    <tr style=\"text-align: right;\">\n",
       "      <th></th>\n",
       "      <th>MatchId</th>\n",
       "      <th>de_dust2_is_available</th>\n",
       "      <th>de_inferno_is_available</th>\n",
       "      <th>de_mirage_is_available</th>\n",
       "      <th>de_nuke_is_available</th>\n",
       "      <th>de_overpass_is_available</th>\n",
       "      <th>de_train_is_available</th>\n",
       "      <th>de_vertigo_is_available</th>\n",
       "      <th>DecisionTeamId</th>\n",
       "      <th>OtherTeamId</th>\n",
       "      <th>DecisionOrder</th>\n",
       "      <th>X_Action</th>\n",
       "      <th>Y_reward</th>\n",
       "    </tr>\n",
       "  </thead>\n",
       "  <tbody>\n",
       "    <tr>\n",
       "      <th>0</th>\n",
       "      <td>4</td>\n",
       "      <td>1</td>\n",
       "      <td>1</td>\n",
       "      <td>1</td>\n",
       "      <td>1</td>\n",
       "      <td>0</td>\n",
       "      <td>1</td>\n",
       "      <td>0</td>\n",
       "      <td>12</td>\n",
       "      <td>6</td>\n",
       "      <td>3</td>\n",
       "      <td>0</td>\n",
       "      <td>0</td>\n",
       "    </tr>\n",
       "    <tr>\n",
       "      <th>1</th>\n",
       "      <td>4</td>\n",
       "      <td>0</td>\n",
       "      <td>1</td>\n",
       "      <td>1</td>\n",
       "      <td>1</td>\n",
       "      <td>0</td>\n",
       "      <td>1</td>\n",
       "      <td>0</td>\n",
       "      <td>6</td>\n",
       "      <td>12</td>\n",
       "      <td>4</td>\n",
       "      <td>3</td>\n",
       "      <td>1</td>\n",
       "    </tr>\n",
       "    <tr>\n",
       "      <th>3</th>\n",
       "      <td>5</td>\n",
       "      <td>0</td>\n",
       "      <td>1</td>\n",
       "      <td>1</td>\n",
       "      <td>1</td>\n",
       "      <td>0</td>\n",
       "      <td>1</td>\n",
       "      <td>1</td>\n",
       "      <td>9</td>\n",
       "      <td>5</td>\n",
       "      <td>3</td>\n",
       "      <td>6</td>\n",
       "      <td>1</td>\n",
       "    </tr>\n",
       "    <tr>\n",
       "      <th>4</th>\n",
       "      <td>5</td>\n",
       "      <td>0</td>\n",
       "      <td>1</td>\n",
       "      <td>1</td>\n",
       "      <td>1</td>\n",
       "      <td>0</td>\n",
       "      <td>1</td>\n",
       "      <td>0</td>\n",
       "      <td>5</td>\n",
       "      <td>9</td>\n",
       "      <td>4</td>\n",
       "      <td>3</td>\n",
       "      <td>0</td>\n",
       "    </tr>\n",
       "    <tr>\n",
       "      <th>6</th>\n",
       "      <td>7</td>\n",
       "      <td>1</td>\n",
       "      <td>1</td>\n",
       "      <td>1</td>\n",
       "      <td>1</td>\n",
       "      <td>0</td>\n",
       "      <td>1</td>\n",
       "      <td>0</td>\n",
       "      <td>4</td>\n",
       "      <td>11</td>\n",
       "      <td>3</td>\n",
       "      <td>1</td>\n",
       "      <td>1</td>\n",
       "    </tr>\n",
       "  </tbody>\n",
       "</table>\n",
       "</div>"
      ],
      "text/plain": [
       "   MatchId  de_dust2_is_available  de_inferno_is_available  \\\n",
       "0        4                      1                        1   \n",
       "1        4                      0                        1   \n",
       "3        5                      0                        1   \n",
       "4        5                      0                        1   \n",
       "6        7                      1                        1   \n",
       "\n",
       "   de_mirage_is_available  de_nuke_is_available  de_overpass_is_available  \\\n",
       "0                       1                     1                         0   \n",
       "1                       1                     1                         0   \n",
       "3                       1                     1                         0   \n",
       "4                       1                     1                         0   \n",
       "6                       1                     1                         0   \n",
       "\n",
       "   de_train_is_available  de_vertigo_is_available  DecisionTeamId  \\\n",
       "0                      1                        0              12   \n",
       "1                      1                        0               6   \n",
       "3                      1                        1               9   \n",
       "4                      1                        0               5   \n",
       "6                      1                        0               4   \n",
       "\n",
       "   OtherTeamId  DecisionOrder  X_Action  Y_reward  \n",
       "0            6              3         0         0  \n",
       "1           12              4         3         1  \n",
       "3            5              3         6         1  \n",
       "4            9              4         3         0  \n",
       "6           11              3         1         1  "
      ]
     },
     "execution_count": 2,
     "metadata": {},
     "output_type": "execute_result"
    }
   ],
   "source": [
    "context.head()"
   ]
  },
  {
   "cell_type": "code",
   "execution_count": 3,
   "id": "frequent-territory",
   "metadata": {},
   "outputs": [
    {
     "data": {
      "text/plain": [
       "(8755, 13)"
      ]
     },
     "execution_count": 3,
     "metadata": {},
     "output_type": "execute_result"
    }
   ],
   "source": [
    "context.shape"
   ]
  },
  {
   "cell_type": "code",
   "execution_count": 4,
   "id": "honest-cooper",
   "metadata": {},
   "outputs": [],
   "source": [
    "context.reset_index(drop=True, inplace=True)"
   ]
  },
  {
   "cell_type": "code",
   "execution_count": 5,
   "id": "irish-slope",
   "metadata": {},
   "outputs": [],
   "source": [
    "from bandit import Bandit"
   ]
  },
  {
   "cell_type": "code",
   "execution_count": 6,
   "id": "civic-memory",
   "metadata": {},
   "outputs": [
    {
     "name": "stdout",
     "output_type": "stream",
     "text": [
      "Probabilities for random row: \n",
      "[[0.   0.25 0.25 0.25 0.   0.   0.25]]\n"
     ]
    }
   ],
   "source": [
    "# do we need a train test split?\n",
    "\n",
    "cols = [col for col in context if col.endswith('is_available')]\n",
    "\n",
    "X = context[cols].values\n",
    "A = context['X_Action'].values\n",
    "Y = context['Y_reward'].values\n",
    "\n",
    "n_arms = 7\n",
    "\n",
    "# randomly chosen by dice roll\n",
    "n = 4569\n",
    "# n = np.random.choice(context.index)\n",
    "\n",
    "bandit = Bandit(X.shape[1], n_arms, step_size=0.01)\n",
    "\n",
    "print('Probabilities for random row: ')\n",
    "print(bandit.predict_proba(X[n]))"
   ]
  },
  {
   "cell_type": "code",
   "execution_count": 7,
   "id": "normal-moses",
   "metadata": {},
   "outputs": [
    {
     "data": {
      "text/plain": [
       "(4569, 3, 1)"
      ]
     },
     "execution_count": 7,
     "metadata": {},
     "output_type": "execute_result"
    }
   ],
   "source": [
    "n, A[n], Y[n]"
   ]
  },
  {
   "cell_type": "code",
   "execution_count": 8,
   "id": "through-royal",
   "metadata": {},
   "outputs": [],
   "source": [
    "# rewards_actually_received = A[Y.astype(bool)]\n",
    "# predictions = bandit.predict(X[Y.astype(bool)], deterministic=False)\n",
    "# result = (predictions == rewards_actually_received).sum()\n",
    "# result"
   ]
  },
  {
   "cell_type": "code",
   "execution_count": 9,
   "id": "detailed-sending",
   "metadata": {},
   "outputs": [],
   "source": [
    "for i in range(X.shape[0]):\n",
    "    bandit.update_theta(X[i].reshape(1, -1), A[i], Y[i])"
   ]
  },
  {
   "cell_type": "code",
   "execution_count": 10,
   "id": "entertaining-madonna",
   "metadata": {},
   "outputs": [],
   "source": [
    "# for i in range(10000):\n",
    "#     bandit.update_theta(X[n].reshape(1, -1), A[n], Y[n].reshape(-1, 1))\n",
    "# will force action 3 - since we're observing 10k times that action 3 will reward with 1"
   ]
  },
  {
   "cell_type": "code",
   "execution_count": 11,
   "id": "alpine-loading",
   "metadata": {},
   "outputs": [
    {
     "name": "stdout",
     "output_type": "stream",
     "text": [
      "Probabilities for random row after training: \n",
      "[[0.         0.29443105 0.21140927 0.23522578 0.         0.\n",
      "  0.2589339 ]]\n",
      "Selected action: \n",
      "[1]\n",
      "Actual action and reward for random row: \n",
      "Action: 3, reward: 1\n"
     ]
    }
   ],
   "source": [
    "print('Probabilities for random row after training: ')\n",
    "print(bandit.predict_proba(X[n]))\n",
    "print('Selected action: ')\n",
    "print(bandit.predict(X[n]))\n",
    "\n",
    "print('Actual action and reward for random row: ')\n",
    "print(f'Action: {A[n]}, reward: {Y[n]}')"
   ]
  },
  {
   "cell_type": "code",
   "execution_count": 12,
   "id": "bacterial-customs",
   "metadata": {},
   "outputs": [],
   "source": [
    "# predictions = bandit.predict(X[Y.astype(bool)], deterministic=False)\n",
    "# result = (predictions == rewards_actually_received).sum()\n",
    "# result"
   ]
  },
  {
   "cell_type": "code",
   "execution_count": null,
   "id": "existing-officer",
   "metadata": {},
   "outputs": [],
   "source": []
  }
 ],
 "metadata": {
  "kernelspec": {
   "display_name": "Python 3",
   "language": "python",
   "name": "python3"
  },
  "language_info": {
   "codemirror_mode": {
    "name": "ipython",
    "version": 3
   },
   "file_extension": ".py",
   "mimetype": "text/x-python",
   "name": "python",
   "nbconvert_exporter": "python",
   "pygments_lexer": "ipython3",
   "version": "3.9.2"
  }
 },
 "nbformat": 4,
 "nbformat_minor": 5
}
